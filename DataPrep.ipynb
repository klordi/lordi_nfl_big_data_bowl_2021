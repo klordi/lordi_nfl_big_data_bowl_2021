{
 "cells": [
  {
   "cell_type": "code",
   "execution_count": 1,
   "metadata": {},
   "outputs": [],
   "source": [
    "import pandas as pd\n",
    "import os\n",
    "import math\n",
    "import matplotlib.pyplot as plt\n",
    "%matplotlib inline"
   ]
  },
  {
   "cell_type": "code",
   "execution_count": 65,
   "metadata": {},
   "outputs": [],
   "source": [
    "def pickleIt(csvfile):\n",
    "    df = pd.read_csv(\"data/%s\" % csvfile)\n",
    "    df.to_pickle(\"data/%s.pickle\" % csvfile)"
   ]
  },
  {
   "cell_type": "code",
   "execution_count": 2,
   "metadata": {},
   "outputs": [],
   "source": [
    "df = pd.read_csv(\"data/games.csv\")\n",
    "\n",
    "#labbr = list(set(list(df.homeTeamAbbr) + list(df.visitorTeamAbbr)))\n",
    "#labbr.sort()\n",
    "#dabbr = {labbr[i]:i+1 for i in range(len(labbr))}\n",
    "\n",
    "#df['ihomeTeamAbbr'] = df['homeTeamAbbr'].apply(lambda x: dabbr[x])\n",
    "#df['ivisitorTeamAbbr'] = df['visitorTeamAbbr'].apply(lambda x: dabbr[x])\n",
    "\n",
    "df['homeTeamAbbr'] = df['homeTeamAbbr'].astype('category')\n",
    "df['visitorTeamAbbr'] = df['visitorTeamAbbr'].astype('category')\n",
    "\n",
    "df.to_pickle(\"data/games.csv.x.pickle\")"
   ]
  },
  {
   "cell_type": "code",
   "execution_count": 3,
   "metadata": {},
   "outputs": [],
   "source": [
    "#pickleIt(\"players.csv\")\n",
    "\n",
    "def fheight(h):\n",
    "    try:\n",
    "        return int(h)\n",
    "    except:\n",
    "        a = h.split('-')\n",
    "        return int(a[0])*12+int(a[1])\n",
    "\n",
    "def shortname(s):\n",
    "    a = s.split()\n",
    "    return \"%s.%s\" % (a[0][0], a[-1])\n",
    "\n",
    "df = pd.read_csv(\"data/players.csv\")\n",
    "df['shortName'] = df['displayName'].apply(shortname).astype('category')\n",
    "df['position'] = df['position'].astype('category')\n",
    "df['height'] = df['height'].apply(fheight)\n",
    "\n",
    "df.to_pickle(\"data/players.csv.x.pickle\")"
   ]
  },
  {
   "cell_type": "code",
   "execution_count": 4,
   "metadata": {},
   "outputs": [],
   "source": [
    "import re\n",
    "\n",
    "#pickleIt(\"plays.csv\")\n",
    "df_players = pd.read_pickle(\"data/players.csv.x.pickle\")\n",
    "df = pd.read_csv(\"data/plays.csv\")\n",
    "\n",
    "re1 = re.compile(r'(to|for) (\\S+)')\n",
    "\n",
    "re2a = re.compile(r'INTERCEPTED by (\\S+)')\n",
    "re2b = re.compile(r'\\s\\((\\S+)\\)')\n",
    "\n",
    "\n",
    "def reOPlayer(s):\n",
    "    try:\n",
    "        snm = re1.search(s).group(2).strip(\".\")\n",
    "        p = df_players.query('shortName==\"%s\"' % snm)\n",
    "        return p.values[0][0]\n",
    "    except:\n",
    "        return 0\n",
    "    \n",
    "def reDPlayer(s):\n",
    "    try:\n",
    "        r = re2a.search(s)\n",
    "        if r is None: r = re2b.search(s)\n",
    "        snm = r.group(1).strip(\".\")\n",
    "        p = df_players.query('shortName==\"%s\"' % snm)\n",
    "        return p.values[0][0]\n",
    "    except:\n",
    "        return 0\n",
    "\n",
    "df['oid'] = df['playDescription'].apply(reOPlayer)\n",
    "df['did'] = df['playDescription'].apply(reDPlayer)\n"
   ]
  },
  {
   "cell_type": "code",
   "execution_count": 5,
   "metadata": {},
   "outputs": [],
   "source": [
    "df['playType'] = df['playType'].astype('category')\n",
    "df['offenseFormation'] = df['offenseFormation'].apply(str).astype('category')\n",
    "df['typeDropback'] = df['typeDropback'].apply(str).astype('category')\n",
    "df['passResult'] = df['passResult'].apply(str).astype('category')\n",
    "df['yardlineSide'] = df['yardlineSide'].apply(str).astype('category')\n",
    "df['absoluteYardlineNumber'] = df['absoluteYardlineNumber'].fillna(0)\n",
    "        \n",
    "df.to_pickle(\"data/plays.csv.x.pickle\")"
   ]
  },
  {
   "cell_type": "code",
   "execution_count": 6,
   "metadata": {},
   "outputs": [],
   "source": [
    "DPOS = ['CB', 'LB', 'OLB', 'ILB', 'MLB', 'FS', 'S', 'SS', 'LS', 'DB', 'DE', 'DT', 'DL']\n",
    "for i in range(1,18):\n",
    "    csvfile = \"data/week%d.csv\" % i\n",
    "    df = pd.read_csv(csvfile)\n",
    "    df['event'] = df['event'].astype('category')\n",
    "    df['upos'] = df['position'] + df.groupby(by=['gameId','playId','frameId','position']).cumcount().astype(str)\n",
    "    df['position'] = df['position'].apply(str).astype('category')\n",
    "    df['iteam'] = df['team'].apply(lambda x : 1 if x == 'home' else 0)\n",
    "    df['iplayDirection'] = df['playDirection'].apply(lambda x : -1 if x == 'left' else 1)\n",
    "    df['route'] = df['route'].apply(str).astype('category')\n",
    "    df['time'] = pd.to_datetime(df['time'])\n",
    "    df['one'] = 1\n",
    "    df['bdefense'] = df['position'].apply(lambda x: -1 if x in DPOS else 1)\n",
    "    df['nflId'] = df['nflId'].apply(lambda id: -1 if math.isnan(id) else id )\n",
    "    df['nflId'] = pd.to_numeric(df['nflId'], downcast='integer')\n",
    "    df.to_pickle(\"%s.x.pickle\" % csvfile)\n"
   ]
  },
  {
   "cell_type": "code",
   "execution_count": 8,
   "metadata": {},
   "outputs": [
    {
     "name": "stdout",
     "output_type": "stream",
     "text": [
      "data/week1.csv.x.pickle\n",
      "data/week2.csv.x.pickle\n",
      "data/week3.csv.x.pickle\n",
      "data/week4.csv.x.pickle\n",
      "data/week5.csv.x.pickle\n",
      "data/week6.csv.x.pickle\n",
      "data/week7.csv.x.pickle\n",
      "data/week8.csv.x.pickle\n",
      "data/week9.csv.x.pickle\n",
      "data/week10.csv.x.pickle\n",
      "data/week11.csv.x.pickle\n",
      "data/week12.csv.x.pickle\n",
      "data/week13.csv.x.pickle\n",
      "data/week14.csv.x.pickle\n",
      "data/week15.csv.x.pickle\n",
      "data/week16.csv.x.pickle\n",
      "data/week17.csv.x.pickle\n"
     ]
    }
   ],
   "source": [
    "df_plays =  pd.read_pickle(\"data/plays.csv.x.pickle\").set_index(['gameId', 'playId'])\n",
    "df_games = pd.read_pickle(\"data/games.csv.x.pickle\").set_index(['gameId'])\n",
    "\n",
    "df_pg = df_plays.join(df_games)\n",
    "df_pg['los'] = df_pg.apply(lambda d : 100.-d['yardlineNumber'] if d['possessionTeam']==d['yardlineSide'] else d['yardlineNumber'], axis=1).fillna(-1)\n",
    "df_pg['defTeam'] = df_pg.apply(lambda d : d['homeTeamAbbr'] if d['possessionTeam'] != d['homeTeamAbbr'] else d['visitorTeamAbbr'] , axis=1 )\n",
    "df_pg['defTeam'] = df_pg['defTeam'].astype('category')\n",
    "\n",
    "for i in range(1,18):\n",
    "    file = \"data/week%d.csv.x.pickle\" % i\n",
    "    print(file)\n",
    "    df = pd.read_pickle(file).set_index(['gameId','playId','frameId','nflId'])\n",
    "    df = df[~df.index.duplicated(keep='first')]\n",
    "    df = df.join(df_pg[['los','yardsToGo','absoluteYardlineNumber', 'down','passResult','oid','did', 'defTeam',\\\n",
    "            'offenseFormation','defendersInTheBox', 'numberOfPassRushers','typeDropback']])\n",
    "    \n",
    "    df = df.reset_index()\n",
    "    df['nflId'] = df.apply(lambda d : -2 if d['nflId']==d['oid'] else d['nflId'], axis=1 )\n",
    "    df = df.set_index(['gameId','playId','frameId','nflId'])\n",
    "    \n",
    "    df1 = df.query('nflId==-1')\n",
    "    df['fx'] = df.loc[:,:,:,:].x - df1.loc[:,:,:,-1].x\n",
    "    df['fy'] = df.loc[:,:,:,:].y - df1.loc[:,:,:,-1].y\n",
    "    df['d2fb'] = (df['fx']**2 + df['fy']**2).apply(math.sqrt)\n",
    "    \n",
    "    df2 = df.query('nflId==-2')\n",
    "    df['ox'] = df.loc[:,:,:,:].x - df2.loc[:,:,:,-2].x\n",
    "    df['oy'] = df.loc[:,:,:,:].y - df2.loc[:,:,:,-2].y\n",
    "    df['d2oid'] = (df['ox']**2 + df['oy']**2).apply(math.sqrt)\n",
    "    \n",
    "    df = df.reset_index()\n",
    "    df.to_pickle(\"data/week%d.csv.y.pickle\" % i)\n",
    "    \n",
    "    "
   ]
  },
  {
   "cell_type": "code",
   "execution_count": null,
   "metadata": {},
   "outputs": [],
   "source": []
  }
 ],
 "metadata": {
  "kernelspec": {
   "display_name": "Python 3",
   "language": "python",
   "name": "python3"
  },
  "language_info": {
   "codemirror_mode": {
    "name": "ipython",
    "version": 3
   },
   "file_extension": ".py",
   "mimetype": "text/x-python",
   "name": "python",
   "nbconvert_exporter": "python",
   "pygments_lexer": "ipython3",
   "version": "3.7.7"
  }
 },
 "nbformat": 4,
 "nbformat_minor": 4
}
